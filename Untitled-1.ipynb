{
 "cells": [
  {
   "cell_type": "code",
   "execution_count": null,
   "metadata": {},
   "outputs": [],
   "source": []
  },
  {
   "cell_type": "code",
   "execution_count": 33,
   "metadata": {},
   "outputs": [
    {
     "data": {
      "text/plain": [
       "[2, 8, 1, 4, 6, 3]"
      ]
     },
     "execution_count": 33,
     "metadata": {},
     "output_type": "execute_result"
    }
   ],
   "source": [
    "list1 = [2,4,6,8]\n",
    "list2 = [1,2,3,8]\n",
    "\n",
    "# rrf = 1 / (k+rank)\n",
    "k=60\n",
    "scores = {}\n",
    "top_k = 8\n",
    "for rank,item in enumerate(list1, start=1):\n",
    "    scores [item] = scores.get(item, 0) + 1/(k+rank)\n",
    "\n",
    "for rank, item in enumerate(list2, start=1):\n",
    "    scores[item] = scores.get(item, 0) + 1 / (k+rank)\n",
    "\n",
    "\n",
    "scores = sorted(scores.items(), key=lambda item:item[1], reverse=True)\n",
    "\n",
    "[int(item) for item, value in scores[:top_k]]"
   ]
  }
 ],
 "metadata": {
  "kernelspec": {
   "display_name": "llama-local",
   "language": "python",
   "name": "python3"
  },
  "language_info": {
   "codemirror_mode": {
    "name": "ipython",
    "version": 3
   },
   "file_extension": ".py",
   "mimetype": "text/x-python",
   "name": "python",
   "nbconvert_exporter": "python",
   "pygments_lexer": "ipython3",
   "version": "3.10.17"
  }
 },
 "nbformat": 4,
 "nbformat_minor": 2
}
